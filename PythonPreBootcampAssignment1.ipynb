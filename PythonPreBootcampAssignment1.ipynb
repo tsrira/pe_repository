{
  "nbformat": 4,
  "nbformat_minor": 0,
  "metadata": {
    "colab": {
      "provenance": [],
      "authorship_tag": "ABX9TyP2AWIqDoWiWKZ+LegGxYIz",
      "include_colab_link": true
    },
    "kernelspec": {
      "name": "python3",
      "display_name": "Python 3"
    },
    "language_info": {
      "name": "python"
    }
  },
  "cells": [
    {
      "cell_type": "markdown",
      "metadata": {
        "id": "view-in-github",
        "colab_type": "text"
      },
      "source": [
        "<a href=\"https://colab.research.google.com/github/tsrira/pe_repository/blob/main/PythonPreBootcampAssignment1.ipynb\" target=\"_parent\"><img src=\"https://colab.research.google.com/assets/colab-badge.svg\" alt=\"Open In Colab\"/></a>"
      ]
    },
    {
      "cell_type": "markdown",
      "source": [
        "1. Setup and Basic Operations:\n",
        "● Install and set up Python. [link text](https://)\n",
        "● Use print() and input() functions.\n",
        "● Assign values to variables and explore different data types."
      ],
      "metadata": {
        "id": "FE9pHXP70UmY"
      }
    },
    {
      "cell_type": "code",
      "execution_count": 1,
      "metadata": {
        "colab": {
          "base_uri": "https://localhost:8080/",
          "height": 53
        },
        "id": "NFDydEOG0MlP",
        "outputId": "c11d1bbc-f43e-4f70-e3f6-cd40c4175900"
      },
      "outputs": [
        {
          "output_type": "execute_result",
          "data": {
            "text/plain": [
              "'\\n1. Setup and Basic Operations: \\n● Install and set up Python. \\n● Use print() and input() functions. \\n● Assign values to variables and explore different data types.\\n'"
            ],
            "application/vnd.google.colaboratory.intrinsic+json": {
              "type": "string"
            }
          },
          "metadata": {},
          "execution_count": 1
        }
      ],
      "source": [
        "\"\"\"\n",
        "1. Setup and Basic Operations:\n",
        "● Install and set up Python.\n",
        "● Use print() and input() functions.\n",
        "● Assign values to variables and explore different data types.\n",
        "\"\"\""
      ]
    },
    {
      "cell_type": "code",
      "source": [
        "\"\"\" 1.1 Setup Python Version 3.13.2 using Microsoft\n",
        "To test from the command prompt type Pytho and type exit to exit\"\"\""
      ],
      "metadata": {
        "colab": {
          "base_uri": "https://localhost:8080/",
          "height": 35
        },
        "id": "xkAQ9GyOMxhe",
        "outputId": "41d08b09-2414-45da-e395-508d9f69beef"
      },
      "execution_count": 3,
      "outputs": [
        {
          "output_type": "execute_result",
          "data": {
            "text/plain": [
              "' 1.1 Setup Python Version 3.13.2 using Microsoft \\nTo test from the command prompt type Pytho and type exit to exit'"
            ],
            "application/vnd.google.colaboratory.intrinsic+json": {
              "type": "string"
            }
          },
          "metadata": {},
          "execution_count": 3
        }
      ]
    },
    {
      "cell_type": "code",
      "source": [
        "## 1.2 Use Print() and Input() functions\n",
        "## 1.3 Assign values to variables and explore different data types.\n",
        "x=5\n",
        "y=11.6\n",
        "z=input(\"Please enter an string input starting with a character: \")\n",
        "is_python_func = True\n",
        "\n",
        "# print values and types\n",
        "print(\"x:\", x,\"type:\",type(x))\n",
        "print(\"y:\", y,\"type:\",type(y))\n",
        "print(\"z:\", z,\"type:\",type(z))\n",
        "print(\"is_python_func:\", is_python_func,\"type:\",type(is_python_func))"
      ],
      "metadata": {
        "colab": {
          "base_uri": "https://localhost:8080/"
        },
        "id": "ondmGGoiNNxN",
        "outputId": "a636c651-e4cb-4dee-fb4d-d0bace1c8c62"
      },
      "execution_count": 6,
      "outputs": [
        {
          "output_type": "stream",
          "name": "stdout",
          "text": [
            "Please enter an string input starting with a character: ss\n",
            "x: 5 type: <class 'int'>\n",
            "y: 11.6 type: <class 'float'>\n",
            "z: ss type: <class 'str'>\n",
            "is_python_func: True type: <class 'bool'>\n"
          ]
        }
      ]
    },
    {
      "cell_type": "code",
      "source": [
        "\"\"\"2. List Operations:\n",
        "● Create a list and perform basic operations like append(), remove(), pop(), and slicing.\n",
        "● Iterate over a list using loops.\n",
        "\"\"\""
      ],
      "metadata": {
        "colab": {
          "base_uri": "https://localhost:8080/",
          "height": 35
        },
        "id": "5l0EBoP2Piq2",
        "outputId": "0bbbbebc-02ed-4d8a-bec7-632017918b4c"
      },
      "execution_count": 9,
      "outputs": [
        {
          "output_type": "execute_result",
          "data": {
            "text/plain": [
              "'2. List Operations: \\n● Create a list and perform basic operations like append(), remove(), pop(), and slicing. \\n● Iterate over a list using loops.\\n'"
            ],
            "application/vnd.google.colaboratory.intrinsic+json": {
              "type": "string"
            }
          },
          "metadata": {},
          "execution_count": 9
        }
      ]
    },
    {
      "cell_type": "code",
      "source": [
        "my_list = [\"Sriram\", \"Raghu\", \"Veer\",\"Axel\",\"Shruthi\"]\n",
        "## Index starts with 0. So 0 Sriram, 1 Raghu, 2 Veer, 3 Axel and 4 Sruthi\n",
        "print(my_list,type(my_list))\n",
        "my_list.append(\"append1\")\n",
        "print(\"After Append:\", my_list)\n",
        "my_list.remove(\"Veer\")\n",
        "print(\"After Removed Veer\", my_list)\n",
        "my_list.pop(2)\n",
        "print(\"After Pop\", my_list)\n",
        "print(\"Slicing only first 3 in the list: \", my_list[0:3])\n",
        "for loop1 in my_list:\n",
        "  print(\"Loop #\", my_list.index(loop1), \" = >\", loop1)"
      ],
      "metadata": {
        "colab": {
          "base_uri": "https://localhost:8080/"
        },
        "id": "GhkVkWfOOfdA",
        "outputId": "998c282f-6bf1-49d6-8baf-64fff3aa911f"
      },
      "execution_count": 44,
      "outputs": [
        {
          "output_type": "stream",
          "name": "stdout",
          "text": [
            "['Sriram', 'Raghu', 'Veer', 'Axel', 'Shruthi'] <class 'list'>\n",
            "After Append: ['Sriram', 'Raghu', 'Veer', 'Axel', 'Shruthi', 'append1']\n",
            "After Removed Veer ['Sriram', 'Raghu', 'Axel', 'Shruthi', 'append1']\n",
            "After Pop ['Sriram', 'Raghu', 'Shruthi', 'append1']\n",
            "Slicing only first 3 in the list:  ['Sriram', 'Raghu', 'Shruthi']\n",
            "Loop # 0  = > Sriram\n",
            "Loop # 1  = > Raghu\n",
            "Loop # 2  = > Shruthi\n",
            "Loop # 3  = > append1\n"
          ]
        }
      ]
    },
    {
      "cell_type": "code",
      "source": [
        "\"\"\"\n",
        "3. Tuple Operations:\n",
        "● Create and access tuple elements.\n",
        "● Understand the immutability of tuples.\n",
        "● Use tuple unpacking.\n",
        "\"\"\""
      ],
      "metadata": {
        "colab": {
          "base_uri": "https://localhost:8080/",
          "height": 35
        },
        "id": "j0KFnvgkVmuj",
        "outputId": "a0f89593-c3f4-41b4-d956-7f38c508e0bf"
      },
      "execution_count": 45,
      "outputs": [
        {
          "output_type": "execute_result",
          "data": {
            "text/plain": [
              "'\\n3. Tuple Operations:\\n● Create and access tuple elements.\\n● Understand the immutability of tuples.\\n● Use tuple unpacking.\\n'"
            ],
            "application/vnd.google.colaboratory.intrinsic+json": {
              "type": "string"
            }
          },
          "metadata": {},
          "execution_count": 45
        }
      ]
    },
    {
      "cell_type": "code",
      "source": [
        "my_tuple = (1,2,3,4,5)\n",
        "print(\"Original tuple:\", my_tuple)\n",
        "my_tuple = my_tuple + (6,7)\n",
        "print(\"After Concatenation:\", my_tuple)\n",
        "## my_tuple.remove(3) will result in no attribute remove error as it is immutable\n",
        "print(\"First element:\", my_tuple[0])\n",
        "print(\"Last element:\", my_tuple[-1])\n",
        "print(\"Slice:\", my_tuple[1:4])\n",
        "fruits = (\"apple\", \"banana\", \"cherry\")\n",
        "\n",
        "(No1, No2, No3) = fruits\n",
        "\n",
        "print(\"No1 fruit:\",No1)\n",
        "print(\"No2 fruit:\",No2)\n",
        "print(\"No3 fruit:\",No3)"
      ],
      "metadata": {
        "colab": {
          "base_uri": "https://localhost:8080/"
        },
        "id": "pVEZSCjKVq5x",
        "outputId": "a59755e1-cbe9-434b-db1f-403e85a6e79c"
      },
      "execution_count": 64,
      "outputs": [
        {
          "output_type": "stream",
          "name": "stdout",
          "text": [
            "Original tuple: (1, 2, 3, 4, 5)\n",
            "After Concatenation: (1, 2, 3, 4, 5, 6, 7)\n",
            "First element: 1\n",
            "Last element: 7\n",
            "Slice: (2, 3, 4)\n",
            "No1 fruit: apple\n",
            "No2 fruit: banana\n",
            "No3 fruit: cherry\n"
          ]
        }
      ]
    },
    {
      "cell_type": "code",
      "source": [
        "\"\"\"\n",
        "4. Dictionary Operations:\n",
        "● Create a dictionary with key-value pairs.\n",
        "● Perform operations like adding, updating, and deleting key-value pairs.\n",
        "● Iterate through a dictionary using loops.\n",
        "\"\"\""
      ],
      "metadata": {
        "colab": {
          "base_uri": "https://localhost:8080/",
          "height": 53
        },
        "id": "ZDVGTIsWZoYK",
        "outputId": "fc2ea083-246c-499d-c49a-0f24e4916a7f"
      },
      "execution_count": 65,
      "outputs": [
        {
          "output_type": "execute_result",
          "data": {
            "text/plain": [
              "'\\n4. Dictionary Operations:\\n● Create a dictionary with key-value pairs.\\n● Perform operations like adding, updating, and deleting key-value pairs.\\n● Iterate through a dictionary using loops.\\n'"
            ],
            "application/vnd.google.colaboratory.intrinsic+json": {
              "type": "string"
            }
          },
          "metadata": {},
          "execution_count": 65
        }
      ]
    },
    {
      "cell_type": "code",
      "source": [
        "my_dict = {\"name\": \"John\",\"name\":\"John\", \"age\": 30, \"city\": \"New York\"}\n",
        "print(\"Original dictionary:\", my_dict)\n",
        "print(\"Name:\", my_dict[\"name\"])\n",
        "print(\"Age:\", my_dict[\"age\"])\n",
        "my_dict[\"age\"] = 31\n",
        "print(\"After updating age:\", my_dict)\n",
        "del my_dict[\"city\"]\n",
        "print(\"After deleting city:\", my_dict)\n",
        "my_dict[\"my country\"] = \"USA\"\n",
        "print(\"After adding country:\", my_dict)\n",
        "for loop1 in my_dict:\n",
        "  print(\"Loop #\", loop1,\"value is : \", my_dict[loop1] )"
      ],
      "metadata": {
        "colab": {
          "base_uri": "https://localhost:8080/"
        },
        "id": "--Me1GOFZuaP",
        "outputId": "e159505e-187e-4c28-a67d-0f2acf031976"
      },
      "execution_count": 75,
      "outputs": [
        {
          "output_type": "stream",
          "name": "stdout",
          "text": [
            "Original dictionary: {'name': 'John', 'age': 30, 'city': 'New York'}\n",
            "Name: John\n",
            "Age: 30\n",
            "After updating age: {'name': 'John', 'age': 31, 'city': 'New York'}\n",
            "After deleting city: {'name': 'John', 'age': 31}\n",
            "After adding country: {'name': 'John', 'age': 31, 'my country': 'USA'}\n",
            "Loop # name value is :  John\n",
            "Loop # age value is :  31\n",
            "Loop # my country value is :  USA\n"
          ]
        }
      ]
    },
    {
      "cell_type": "code",
      "source": [
        "\"\"\"\n",
        "5. Set Operations:\n",
        "● Create a set and perform operations like union, intersection, and difference.\n",
        "● Understand the uniqueness property of sets.\n",
        "\"\"\""
      ],
      "metadata": {
        "colab": {
          "base_uri": "https://localhost:8080/",
          "height": 35
        },
        "id": "7ic8Z14Ob3jX",
        "outputId": "d1f0fc1c-d999-4a21-af48-4a283fa5797b"
      },
      "execution_count": 76,
      "outputs": [
        {
          "output_type": "execute_result",
          "data": {
            "text/plain": [
              "'\\n5. Set Operations: \\n● Create a set and perform operations like union, intersection, and difference. \\n● Understand the uniqueness property of sets. \\n'"
            ],
            "application/vnd.google.colaboratory.intrinsic+json": {
              "type": "string"
            }
          },
          "metadata": {},
          "execution_count": 76
        }
      ]
    },
    {
      "cell_type": "code",
      "source": [
        "my_set = {1,2,3,4,5,2,4}\n",
        "print(\"Original set:\", my_set)\n",
        "my_set.add(6)\n",
        "print(\"After adding 6:\", my_set)\n",
        "my_set.remove(3)\n",
        "print(\"After removing 3:\", my_set)\n",
        "my_set2 = {4,5,6,7,8}\n",
        "print(\"Set 2:\", my_set2)\n",
        "print(\"Union:\", my_set.union(my_set2))\n",
        "print(\"Intersection:\", my_set.intersection(my_set2))\n",
        "print(\"Difference:\", my_set.difference(my_set2))"
      ],
      "metadata": {
        "colab": {
          "base_uri": "https://localhost:8080/"
        },
        "id": "rsaxNYzMcG8L",
        "outputId": "4d94849e-3f45-417c-baca-0da4e46e1d9a"
      },
      "execution_count": 80,
      "outputs": [
        {
          "output_type": "stream",
          "name": "stdout",
          "text": [
            "Original set: {1, 2, 3, 4, 5}\n",
            "After adding 6: {1, 2, 3, 4, 5, 6}\n",
            "After removing 3: {1, 2, 4, 5, 6}\n",
            "Set 2: {4, 5, 6, 7, 8}\n",
            "Union: {1, 2, 4, 5, 6, 7, 8}\n",
            "Intersection: {4, 5, 6}\n",
            "Difference: {1, 2}\n"
          ]
        }
      ]
    },
    {
      "cell_type": "code",
      "source": [
        "\"\"\"\n",
        "6. Conditional Statements:\n",
        "● Implement if-else conditions for decision-making.\n",
        "● Use nested if-else conditions for complex logic.\n",
        "\"\"\""
      ],
      "metadata": {
        "colab": {
          "base_uri": "https://localhost:8080/",
          "height": 35
        },
        "id": "ono8h95Icr0U",
        "outputId": "e30e4681-5bed-46d8-dbf3-8c1cf417d1eb"
      },
      "execution_count": 82,
      "outputs": [
        {
          "output_type": "execute_result",
          "data": {
            "text/plain": [
              "'\\n6. Conditional Statements:\\n● Implement if-else conditions for decision-making.\\n● Use nested if-else conditions for complex logic.\\n'"
            ],
            "application/vnd.google.colaboratory.intrinsic+json": {
              "type": "string"
            }
          },
          "metadata": {},
          "execution_count": 82
        }
      ]
    },
    {
      "cell_type": "code",
      "source": [
        "a = 33\n",
        "b = 200\n",
        "if b > a:\n",
        "  print(\"b=\", b, \"is greater than a=\", a)\n",
        "\n",
        "complexlogic = input(\"Enter any number:\")\n",
        "if complexlogic.lstrip(\"-\").isnumeric() == False :\n",
        "  print(\"This is a non numeric number. Please enter a number\")\n",
        "  exit()\n",
        "else:\n",
        "  complexlogic = int(complexlogic)\n",
        "  if complexlogic > 0:\n",
        "    print(\"Positive number\")\n",
        "  elif complexlogic == 0:\n",
        "    print(\"Zero\")\n",
        "  else:\n",
        "    print(\"Negative number\")"
      ],
      "metadata": {
        "colab": {
          "base_uri": "https://localhost:8080/"
        },
        "id": "pHINHFgKcwus",
        "outputId": "b6c07212-69e4-494d-d929-d236dafec77f"
      },
      "execution_count": 3,
      "outputs": [
        {
          "output_type": "stream",
          "name": "stdout",
          "text": [
            "b= 200 is greater than a= 33\n",
            "Enter any number:-s\n",
            "This is a non numeric number. Please enter a number\n"
          ]
        }
      ]
    },
    {
      "cell_type": "code",
      "source": [
        "\"\"\"\n",
        "7. Looping Constructs:\n",
        "● Use for loops to iterate over lists, tuples, and dictionaries.\n",
        "● Use while loops for repeating tasks.\n",
        "● Implement break and continue statements to control loops.\n",
        "\"\"\""
      ],
      "metadata": {
        "id": "252amRTNiSbm"
      },
      "execution_count": null,
      "outputs": []
    },
    {
      "cell_type": "code",
      "source": [
        "for i in range(1,5):\n",
        "  print(\"for loop (index 0 to 4 in range 1 to 5) = \", i)\n",
        "\n",
        "i = 0\n",
        "while i < 6:\n",
        "  i += 1\n",
        "  if i == 3:\n",
        "    continue\n",
        "  print(\"While Loop: while i < 6 skipping 3: \", i)"
      ],
      "metadata": {
        "colab": {
          "base_uri": "https://localhost:8080/"
        },
        "id": "6ggpUIJMiUwW",
        "outputId": "d192a69a-5dd1-452f-e449-f85a28339a8b"
      },
      "execution_count": 10,
      "outputs": [
        {
          "output_type": "stream",
          "name": "stdout",
          "text": [
            "for loop (index 0 to 4 in range 1 to 5) =  1\n",
            "for loop (index 0 to 4 in range 1 to 5) =  2\n",
            "for loop (index 0 to 4 in range 1 to 5) =  3\n",
            "for loop (index 0 to 4 in range 1 to 5) =  4\n",
            "While Loop: while i < 6 skipping 3:  1\n",
            "While Loop: while i < 6 skipping 3:  2\n",
            "While Loop: while i < 6 skipping 3:  4\n",
            "While Loop: while i < 6 skipping 3:  5\n",
            "While Loop: while i < 6 skipping 3:  6\n"
          ]
        }
      ]
    },
    {
      "cell_type": "code",
      "source": [
        "\"\"\"\n",
        "8. Problem-Solving Tasks:\n",
        "● Write a Python program to find the largest number in a list.\n",
        "● Write a Python program to count the frequency of elements in a list.\n",
        "● Create a dictionary that stores student names as keys and marks as values, then find the student with the highest marks.\n",
        "● Implement a while loop to print the Fibonacci series up to a given number.\n",
        "● Use a set to remove duplicate elements from a list\n",
        "\"\"\""
      ],
      "metadata": {
        "id": "l6_KVRECvzcK"
      },
      "execution_count": null,
      "outputs": []
    }
  ]
}