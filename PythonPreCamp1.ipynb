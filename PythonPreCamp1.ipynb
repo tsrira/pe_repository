{
  "nbformat": 4,
  "nbformat_minor": 0,
  "metadata": {
    "colab": {
      "provenance": [],
      "authorship_tag": "ABX9TyPYCAeSadrtWT9L2mVngATK",
      "include_colab_link": true
    },
    "kernelspec": {
      "name": "python3",
      "display_name": "Python 3"
    },
    "language_info": {
      "name": "python"
    }
  },
  "cells": [
    {
      "cell_type": "markdown",
      "metadata": {
        "id": "view-in-github",
        "colab_type": "text"
      },
      "source": [
        "<a href=\"https://colab.research.google.com/github/tsrira/pe_repository/blob/main/PythonPreCamp1.ipynb\" target=\"_parent\"><img src=\"https://colab.research.google.com/assets/colab-badge.svg\" alt=\"Open In Colab\"/></a>"
      ]
    },
    {
      "cell_type": "markdown",
      "source": [
        "##\n",
        "1. Setup and Basic Operations:\n",
        "● Install and set up Python.\n",
        "● Use print() and input() functions.\n",
        "● Assign values to variables and explore different data types.\n",
        "##"
      ],
      "metadata": {
        "id": "SbH0W_IrlIme"
      }
    },
    {
      "cell_type": "code",
      "execution_count": 1,
      "metadata": {
        "colab": {
          "base_uri": "https://localhost:8080/"
        },
        "id": "2rZuGjMNn25M",
        "outputId": "7b5bb7cd-470d-45eb-cd62-ace183c59e22"
      },
      "outputs": [
        {
          "output_type": "stream",
          "name": "stdout",
          "text": [
            "x: 5 type: <class 'int'>\n",
            "y: 11.6 type: <class 'float'>\n",
            "z: hi type: <class 'str'>\n",
            "is_python_func: True type: <class 'bool'>\n"
          ]
        }
      ],
      "source": [
        "x=5\n",
        "y=11.6\n",
        "z=\"hi\"\n",
        "is_python_func = True\n",
        "\n",
        "# print values and types\n",
        "print(\"x:\", x,\"type:\",type(x))\n",
        "print(\"y:\", y,\"type:\",type(y))\n",
        "print(\"z:\", z,\"type:\",type(z))\n",
        "print(\"is_python_func:\", is_python_func,\"type:\",type(is_python_func))\n"
      ]
    },
    {
      "cell_type": "code",
      "source": [
        "a=10\n",
        "b=3.5"
      ],
      "metadata": {
        "id": "uB-A6HhcpgSC"
      },
      "execution_count": null,
      "outputs": []
    },
    {
      "cell_type": "code",
      "source": [
        "print(\"Addition:\", a+b)\n",
        "print(\"Subtraction:\", a-b)\n",
        "print(\"Multiplication:\", a*b)\n",
        "print(\"Division:\", a/b)\n",
        "print(\"Floor Division:\", a//b)\n",
        "print(\"Modulus:\", a%b)\n",
        "print(\"Exponent:\", a**2)"
      ],
      "metadata": {
        "colab": {
          "base_uri": "https://localhost:8080/"
        },
        "id": "AaZsdCtPpgcc",
        "outputId": "f8c00fbd-b9b6-4824-d2af-d10bdddab956"
      },
      "execution_count": null,
      "outputs": [
        {
          "output_type": "stream",
          "name": "stdout",
          "text": [
            "Addition: 13.5\n",
            "Subtraction: 6.5\n",
            "Multiplication: 35.0\n",
            "Division: 2.857142857142857\n",
            "Floor Division: 2.0\n",
            "Modulus: 3.0\n",
            "Exponent: 100\n"
          ]
        }
      ]
    },
    {
      "cell_type": "code",
      "source": [
        "string = \"Python Programming\"\n",
        "print(\"Upper Case: \", string.upper())\n",
        "print(\"Lower Case: \", string.lower())\n",
        "print(\"Swap Case: \", string.swapcase())\n",
        "print(\"Title Case: \", string.title())\n",
        "print(\"Capitalize: \", string.capitalize())\n",
        "print(\"Replace:\", string.replace(\"Python\", \"Advanced Python\"))\n",
        "print(\"Split:\", string.split())\n",
        "print(\"Concatenation:\", string + \" \" + \"is fun\")\n",
        "print(\"Repetition:\", string * 2)\n",
        "\n",
        "#\n"
      ],
      "metadata": {
        "colab": {
          "base_uri": "https://localhost:8080/"
        },
        "id": "B8hXtSsbpgfm",
        "outputId": "4f990d6e-8282-4ecb-a2d3-2d3393dd0f2f"
      },
      "execution_count": null,
      "outputs": [
        {
          "output_type": "stream",
          "name": "stdout",
          "text": [
            "Upper Case:  PYTHON PROGRAMMING\n",
            "Lower Case:  python programming\n",
            "Swap Case:  pYTHON pROGRAMMING\n",
            "Title Case:  Python Programming\n",
            "Capitalize:  Python programming\n",
            "Replace: Advanced Python Programming\n",
            "Split ['Python', 'Programming']\n",
            "Concatenation Python Programming is fun\n",
            "Repetition Python ProgrammingPython Programming\n"
          ]
        }
      ]
    },
    {
      "cell_type": "code",
      "source": [
        "my_tuple = (1,2,3,4,5)\n",
        "print(\"Original tuple:\", my_tuple)\n",
        "print(\"First element:\", my_tuple[0])\n",
        "print(\"Last element:\", my_tuple[-1])\n",
        "print(\"Slice:\", my_tuple[1:4])"
      ],
      "metadata": {
        "colab": {
          "base_uri": "https://localhost:8080/"
        },
        "id": "Oz84UL-4pgml",
        "outputId": "4c13a375-6fbf-4055-bd29-f99e984c01d9"
      },
      "execution_count": null,
      "outputs": [
        {
          "output_type": "stream",
          "name": "stdout",
          "text": [
            "Original tuple: (1, 2, 3, 4, 5)\n",
            "First element: 1\n",
            "Last element: 5\n",
            "Slice: (2, 3, 4)\n"
          ]
        }
      ]
    },
    {
      "cell_type": "code",
      "source": [
        "my_set = {1,2,3,4,5,2,4}\n",
        "print(\"Original set:\", my_set)\n",
        "my_set.add(6)\n",
        "print(\"After adding 6:\", my_set)\n",
        "my_set.remove(3)\n",
        "print(\"After removing 3:\", my_set)"
      ],
      "metadata": {
        "colab": {
          "base_uri": "https://localhost:8080/"
        },
        "id": "gSOwGuW0pgp4",
        "outputId": "562b571f-6827-4c96-8487-508ad294d305"
      },
      "execution_count": null,
      "outputs": [
        {
          "output_type": "stream",
          "name": "stdout",
          "text": [
            "Original set: {1, 2, 3, 4, 5}\n",
            "After adding 6: {1, 2, 3, 4, 5, 6}\n",
            "After removing 3: {1, 2, 4, 5, 6}\n"
          ]
        }
      ]
    },
    {
      "cell_type": "code",
      "source": [
        "my_dict = {\"name\": \"John\",\"name\":\"John\", \"age\": 30, \"city\": \"New York\"}\n",
        "print(\"Original dictionary:\", my_dict)\n",
        "print(\"Name:\", my_dict[\"name\"])\n",
        "print(\"Age:\", my_dict[\"age\"])\n",
        "my_dict[\"age\"] = 31\n",
        "print(\"After updating age:\", my_dict)\n",
        "del my_dict[\"city\"]\n",
        "print(\"After deleting city:\", my_dict)\n",
        "my_dict[\"my country\"] = \"USA\"\n",
        "print(\"After adding country:\", my_dict)"
      ],
      "metadata": {
        "colab": {
          "base_uri": "https://localhost:8080/"
        },
        "id": "xkUD9Dazpgsr",
        "outputId": "465eeea2-d3c7-4ada-a690-ef857c30b658"
      },
      "execution_count": null,
      "outputs": [
        {
          "output_type": "stream",
          "name": "stdout",
          "text": [
            "Original dictionary: {'name': 'John', 'age': 30, 'city': 'New York'}\n",
            "Name: John\n",
            "Age: 30\n",
            "After updating age: {'name': 'John', 'age': 31, 'city': 'New York'}\n",
            "After deleting city: {'name': 'John', 'age': 31}\n",
            "After adding country: {'name': 'John', 'age': 31, 'my country': 'USA'}\n"
          ]
        }
      ]
    },
    {
      "cell_type": "code",
      "source": [
        "num=0\n",
        "if num>0:\n",
        "  print(\"Positive Value\")\n",
        "elif num<0:\n",
        "  print(\"Negative Value\")\n",
        "else:\n",
        "  print(\"Zero\")\n"
      ],
      "metadata": {
        "colab": {
          "base_uri": "https://localhost:8080/"
        },
        "id": "qOw12fxNpguq",
        "outputId": "ae30a0f6-583c-490a-9533-56320aa89205"
      },
      "execution_count": null,
      "outputs": [
        {
          "output_type": "stream",
          "name": "stdout",
          "text": [
            "Zero\n"
          ]
        }
      ]
    },
    {
      "cell_type": "code",
      "source": [
        "def check_even_odd(n):\n",
        "  if n%2==0:\n",
        "    return \"Even\"\n",
        "  else:\n",
        "   return \"Odd\"\n",
        "print(\"Number 7 is:\", check_even_odd(7))\n",
        "print(\"Number 8 is:\", check_even_odd(8))"
      ],
      "metadata": {
        "colab": {
          "base_uri": "https://localhost:8080/"
        },
        "id": "LZSzJNUv10jb",
        "outputId": "508188cd-d4d3-42ed-b3c6-0933cdd0b2d2"
      },
      "execution_count": null,
      "outputs": [
        {
          "output_type": "stream",
          "name": "stdout",
          "text": [
            "Number 7 is: Odd\n",
            "Number 8 is: Even\n"
          ]
        }
      ]
    },
    {
      "cell_type": "code",
      "source": [
        "for i in range(1,5):\n",
        "  print(i)"
      ],
      "metadata": {
        "colab": {
          "base_uri": "https://localhost:8080/"
        },
        "id": "dULgZEEQ2gJD",
        "outputId": "19b7f582-925b-4afc-a655-f1250b9f04da"
      },
      "execution_count": null,
      "outputs": [
        {
          "output_type": "stream",
          "name": "stdout",
          "text": [
            "1\n",
            "2\n",
            "3\n",
            "4\n"
          ]
        }
      ]
    },
    {
      "cell_type": "code",
      "source": [
        "count = 0\n",
        "while count < 5:\n",
        "  print(count)\n",
        "  count += 1"
      ],
      "metadata": {
        "colab": {
          "base_uri": "https://localhost:8080/"
        },
        "id": "qkC4kE092gGS",
        "outputId": "2503edfb-1542-48d6-a9a6-532e3fe56b02"
      },
      "execution_count": null,
      "outputs": [
        {
          "output_type": "stream",
          "name": "stdout",
          "text": [
            "0\n",
            "1\n",
            "2\n",
            "3\n",
            "4\n"
          ]
        }
      ]
    },
    {
      "cell_type": "code",
      "source": [
        "def power(base, exp=2):\n",
        "  return base**exp\n",
        "print(\"2^2:\", power(2))\n",
        "print(\"3^3:\", power(3,3))"
      ],
      "metadata": {
        "colab": {
          "base_uri": "https://localhost:8080/"
        },
        "id": "iFIVIiJt2gDO",
        "outputId": "67b515de-5c93-4b96-899f-c96e45fdade0"
      },
      "execution_count": null,
      "outputs": [
        {
          "output_type": "stream",
          "name": "stdout",
          "text": [
            "2^2: 4\n",
            "3^3: 27\n"
          ]
        }
      ]
    },
    {
      "cell_type": "code",
      "source": [
        "times_two = lambda x: x*2\n",
        "print(\"Lamda output 5*2:\", times_two(5))"
      ],
      "metadata": {
        "id": "jTwy-Upk2fzc",
        "colab": {
          "base_uri": "https://localhost:8080/"
        },
        "outputId": "e504ee84-def5-49af-d35b-55f61e577411"
      },
      "execution_count": null,
      "outputs": [
        {
          "output_type": "stream",
          "name": "stdout",
          "text": [
            "Lamda output 5*2: 10\n"
          ]
        }
      ]
    },
    {
      "cell_type": "code",
      "source": [
        "sum_number = lambda x,y: x+y\n",
        "print(\"Lamda output 5+6:\", sum_number(5,6))"
      ],
      "metadata": {
        "colab": {
          "base_uri": "https://localhost:8080/"
        },
        "id": "Dz9pQ1ah5hP9",
        "outputId": "594fc390-dc68-463a-b747-85cb0dab1483"
      },
      "execution_count": null,
      "outputs": [
        {
          "output_type": "stream",
          "name": "stdout",
          "text": [
            "Lamda output 5+6: 11\n"
          ]
        }
      ]
    },
    {
      "cell_type": "code",
      "source": [
        "message = \"Python is powerful and easy to learn\"\n",
        "print(\"Length of the string: \", len(message))\n",
        "print(\"substring is:\", \"powerful\" in message)\n",
        "print(\"slice it:\", message[0:3])\n",
        "print(\"reverse:\", message[::-1])\n",
        "print(\"slice it:\", message[0:3][::-1])\n",
        "print(message.index(\"powerful\"))\n",
        "print(message.count(\"e\"))\n",
        "print(message.replace(\"Python\", \"Advanced Python\"))"
      ],
      "metadata": {
        "colab": {
          "base_uri": "https://localhost:8080/"
        },
        "id": "Nr4r9K-i5yPN",
        "outputId": "3c6279e7-3cf4-4048-f1b4-efe36b30c81b"
      },
      "execution_count": null,
      "outputs": [
        {
          "output_type": "stream",
          "name": "stdout",
          "text": [
            "Length of the string:  36\n",
            "substring is: True\n",
            "slice it: Pyt\n",
            "reverse: nrael ot ysae dna lufrewop si nohtyP\n",
            "slice it: tyP\n",
            "10\n",
            "3\n",
            "Advanced Python is powerful and easy to learn\n"
          ]
        }
      ]
    },
    {
      "cell_type": "code",
      "source": [],
      "metadata": {
        "id": "7z2JSQGX5yDy"
      },
      "execution_count": null,
      "outputs": []
    },
    {
      "cell_type": "code",
      "source": [],
      "metadata": {
        "id": "9jpzUI515x7t"
      },
      "execution_count": null,
      "outputs": []
    },
    {
      "cell_type": "code",
      "source": [],
      "metadata": {
        "id": "SHrCC9h25xvs"
      },
      "execution_count": null,
      "outputs": []
    }
  ]
}